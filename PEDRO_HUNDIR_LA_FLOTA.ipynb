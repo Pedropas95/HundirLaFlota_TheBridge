{
 "cells": [
  {
   "cell_type": "markdown",
   "metadata": {},
   "source": [
    "![imagen](./img/hundir-la-flota-juego-de-mesa.jpg)"
   ]
  },
  {
   "cell_type": "code",
   "execution_count": 42,
   "metadata": {},
   "outputs": [
    {
     "name": "stdout",
     "output_type": "stream",
     "text": [
      "[[' ' ' ' ' ' ' ' ' ' ' ' ' ' ' ' ' ' ' ']\n",
      " [' ' ' ' ' ' ' ' ' ' ' ' ' ' ' ' ' ' ' ']\n",
      " [' ' ' ' ' ' ' ' ' ' ' ' ' ' ' ' ' ' ' ']\n",
      " [' ' ' ' ' ' ' ' ' ' ' ' ' ' ' ' ' ' ' ']\n",
      " [' ' ' ' ' ' ' ' ' ' ' ' ' ' ' ' ' ' ' ']\n",
      " [' ' ' ' ' ' ' ' ' ' ' ' ' ' ' ' ' ' ' ']\n",
      " [' ' ' ' ' ' ' ' ' ' ' ' ' ' ' ' ' ' ' ']\n",
      " [' ' ' ' ' ' ' ' ' ' ' ' ' ' ' ' ' ' ' ']\n",
      " [' ' ' ' ' ' ' ' ' ' ' ' ' ' ' ' ' ' ' ']\n",
      " [' ' ' ' ' ' ' ' ' ' ' ' ' ' ' ' ' ' ' ']]\n"
     ]
    }
   ],
   "source": [
    "############ 1. CREAR TABLERO\n",
    "\n",
    "import numpy as np\n",
    "import random\n",
    "\n",
    "tablero = np.full((10,10),\" \")\n",
    "print(tablero)\n",
    "\n",
    "def crea_tablero_jugador(lado = 10):\n",
    "    tablero = np.full((lado,lado),\" \")\n",
    "    return tablero\n",
    "\n"
   ]
  },
  {
   "cell_type": "code",
   "execution_count": 46,
   "metadata": {},
   "outputs": [
    {
     "name": "stdout",
     "output_type": "stream",
     "text": [
      "[[' ' 'O' ' ' ' ' ' ' ' ' ' ' ' ' ' ' ' ']\n",
      " [' ' 'O' ' ' 'O' 'O' 'O' 'O' ' ' ' ' ' ']\n",
      " [' ' ' ' ' ' 'O' 'O' 'O' ' ' ' ' ' ' ' ']\n",
      " [' ' ' ' ' ' ' ' ' ' ' ' ' ' ' ' ' ' ' ']\n",
      " [' ' ' ' ' ' ' ' ' ' ' ' ' ' ' ' ' ' ' ']\n",
      " [' ' ' ' ' ' ' ' ' ' ' ' ' ' ' ' ' ' ' ']\n",
      " [' ' ' ' ' ' ' ' ' ' ' ' ' ' ' ' ' ' ' ']\n",
      " [' ' ' ' ' ' ' ' ' ' ' ' ' ' ' ' ' ' ' ']\n",
      " [' ' ' ' ' ' ' ' ' ' ' ' ' ' ' ' ' ' ' ']\n",
      " [' ' ' ' ' ' ' ' ' ' ' ' ' ' ' ' ' ' ' ']]\n"
     ]
    }
   ],
   "source": [
    "\n",
    "############### 2. COLOCAR BARCOS\n",
    "\n",
    "\n",
    "#barcos [(0,1), (1,1)] y [(1,3), (1,4), (1,5), (1,6)]\n",
    "\n",
    "barco1 = [(0,1),(1,1)]\n",
    "barco2 = [(1,3), (1,4), (1,5), (1,6)]\n",
    "barco3 = [(2,3),(2,4),(2,5)]\n",
    "\n",
    "def coloca_barco(tablero, barco):\n",
    "    for pieza in barco:\n",
    "        tablero[pieza] = \"O\"\n",
    "    return tablero\n",
    "\n",
    "tablero = coloca_barco(tablero, barco1)\n",
    "tablero = coloca_barco(tablero,barco2)\n",
    "tablero = coloca_barco(tablero,barco3)\n",
    "\n",
    "print(tablero)\n",
    "\n",
    "#################3\n",
    "\n",
    "\n",
    "\n",
    "def coloca_barco_plus(tablero, barco):\n",
    "    # Nos devuelve el tablero si puede colocar el barco, si no, devuelve False, y avise por pantalla\n",
    "    tablero_temp = tablero.copy()\n",
    "    num_max_filas = tablero.shape[0]\n",
    "    num_max_columnas = tablero.shape[1]\n",
    "    for pieza in barco:\n",
    "        fila = pieza[0]\n",
    "        columna = pieza[1]\n",
    "        if fila < 0  or fila >= num_max_filas:\n",
    "            print(f\"No puedo poner la pieza {pieza} porque se sale del tablero\")\n",
    "            return False\n",
    "        if columna <0 or columna>= num_max_columnas:\n",
    "            print(f\"No puedo poner la pieza {pieza} porque se sale del tablero\")\n",
    "            return False\n",
    "        if tablero[pieza] == \"O\" or tablero[pieza] == \"X\":\n",
    "            print(f\"No puedo poner la pieza {pieza} porque hay otro barco\")\n",
    "            return False\n",
    "        tablero_temp[pieza] = \"O\"\n",
    "    return tablero_temp\n"
   ]
  },
  {
   "cell_type": "code",
   "execution_count": 47,
   "metadata": {},
   "outputs": [
    {
     "name": "stdout",
     "output_type": "stream",
     "text": [
      "[[' ' ' ' ' ' ' ' ' ' ' ' ' ' ' ' ' ' ' ']\n",
      " [' ' ' ' ' ' ' ' ' ' ' ' ' ' ' ' ' ' ' ']\n",
      " [' ' ' ' ' ' ' ' ' ' ' ' ' ' ' ' ' ' ' ']\n",
      " [' ' ' ' ' ' ' ' ' ' ' ' ' ' ' ' ' ' ' ']\n",
      " [' ' ' ' ' ' ' ' ' ' ' ' ' ' ' ' ' ' ' ']\n",
      " [' ' ' ' ' ' ' ' ' ' ' ' ' ' ' ' ' ' ' ']\n",
      " [' ' ' ' ' ' ' ' ' ' ' ' ' ' ' ' ' ' ' ']\n",
      " [' ' ' ' ' ' ' ' ' ' ' ' ' ' ' ' ' ' ' ']\n",
      " [' ' ' ' ' ' ' ' ' ' ' ' ' ' ' ' ' ' ' ']\n",
      " [' ' ' ' ' ' ' ' ' ' ' ' ' ' ' ' ' ' ' ']]\n",
      "********************\n",
      "Coloco: [(0, 1), (1, 1)]\n",
      "[[' ' 'O' ' ' ' ' ' ' ' ' ' ' ' ' ' ' ' ']\n",
      " [' ' 'O' ' ' ' ' ' ' ' ' ' ' ' ' ' ' ' ']\n",
      " [' ' ' ' ' ' ' ' ' ' ' ' ' ' ' ' ' ' ' ']\n",
      " [' ' ' ' ' ' ' ' ' ' ' ' ' ' ' ' ' ' ' ']\n",
      " [' ' ' ' ' ' ' ' ' ' ' ' ' ' ' ' ' ' ' ']\n",
      " [' ' ' ' ' ' ' ' ' ' ' ' ' ' ' ' ' ' ' ']\n",
      " [' ' ' ' ' ' ' ' ' ' ' ' ' ' ' ' ' ' ' ']\n",
      " [' ' ' ' ' ' ' ' ' ' ' ' ' ' ' ' ' ' ' ']\n",
      " [' ' ' ' ' ' ' ' ' ' ' ' ' ' ' ' ' ' ' ']\n",
      " [' ' ' ' ' ' ' ' ' ' ' ' ' ' ' ' ' ' ' ']]\n",
      "********************\n",
      "Coloco: [(1, 3), (1, 4), (1, 5), (1, 6)]\n",
      "[[' ' 'O' ' ' ' ' ' ' ' ' ' ' ' ' ' ' ' ']\n",
      " [' ' 'O' ' ' 'O' 'O' 'O' 'O' ' ' ' ' ' ']\n",
      " [' ' ' ' ' ' ' ' ' ' ' ' ' ' ' ' ' ' ' ']\n",
      " [' ' ' ' ' ' ' ' ' ' ' ' ' ' ' ' ' ' ' ']\n",
      " [' ' ' ' ' ' ' ' ' ' ' ' ' ' ' ' ' ' ' ']\n",
      " [' ' ' ' ' ' ' ' ' ' ' ' ' ' ' ' ' ' ' ']\n",
      " [' ' ' ' ' ' ' ' ' ' ' ' ' ' ' ' ' ' ' ']\n",
      " [' ' ' ' ' ' ' ' ' ' ' ' ' ' ' ' ' ' ' ']\n",
      " [' ' ' ' ' ' ' ' ' ' ' ' ' ' ' ' ' ' ' ']\n",
      " [' ' ' ' ' ' ' ' ' ' ' ' ' ' ' ' ' ' ' ']]\n",
      "********************\n",
      "Coloco: [(2, 3), (2, 4), (2, 5)]\n",
      "[[' ' 'O' ' ' ' ' ' ' ' ' ' ' ' ' ' ' ' ']\n",
      " [' ' 'O' ' ' 'O' 'O' 'O' 'O' ' ' ' ' ' ']\n",
      " [' ' ' ' ' ' 'O' 'O' 'O' ' ' ' ' ' ' ' ']\n",
      " [' ' ' ' ' ' ' ' ' ' ' ' ' ' ' ' ' ' ' ']\n",
      " [' ' ' ' ' ' ' ' ' ' ' ' ' ' ' ' ' ' ' ']\n",
      " [' ' ' ' ' ' ' ' ' ' ' ' ' ' ' ' ' ' ' ']\n",
      " [' ' ' ' ' ' ' ' ' ' ' ' ' ' ' ' ' ' ' ']\n",
      " [' ' ' ' ' ' ' ' ' ' ' ' ' ' ' ' ' ' ' ']\n",
      " [' ' ' ' ' ' ' ' ' ' ' ' ' ' ' ' ' ' ' ']\n",
      " [' ' ' ' ' ' ' ' ' ' ' ' ' ' ' ' ' ' ' ']]\n",
      "-------------------------------------------------- SEPARADOR 3 --------------------------------------------------\n"
     ]
    }
   ],
   "source": [
    "################ 3. IR VIENDO CÓMO SE COLOCAN\n",
    "\n",
    "\n",
    "tablero = crea_tablero(10)\n",
    "barco1 = [(0,1),(1,1)]\n",
    "barco2 = [(1,3), (1,4), (1,5), (1,6)]\n",
    "barco3 = [(2,3),(2,4),(2,5)]\n",
    "\n",
    "print(tablero)\n",
    "for barco in [barco1, barco2,barco3]:\n",
    "    print(\"*\"*20)\n",
    "    print(\"Coloco:\", barco)\n",
    "    tablero = coloca_barco(tablero,barco)\n",
    "    print(tablero)\n",
    "\n",
    "print(\"-\"*50, \"SEPARADOR 3\" ,\"-\"*50)"
   ]
  },
  {
   "cell_type": "code",
   "execution_count": 48,
   "metadata": {},
   "outputs": [
    {
     "name": "stdout",
     "output_type": "stream",
     "text": [
      "Agua\n",
      "None\n",
      "Agua\n",
      "[[' ' 'O' ' ' ' ' ' ' ' ' ' ' ' ' ' ' ' ']\n",
      " [' ' 'O' ' ' 'O' 'O' 'O' 'O' ' ' ' ' ' ']\n",
      " [' ' ' ' ' ' 'O' 'O' 'O' ' ' ' ' ' ' ' ']\n",
      " [' ' ' ' ' ' ' ' ' ' ' ' ' ' ' ' ' ' ' ']\n",
      " [' ' ' ' ' ' ' ' ' ' ' ' ' ' ' ' ' ' ' ']\n",
      " [' ' ' ' ' ' ' ' ' ' ' ' '-' ' ' ' ' ' ']\n",
      " [' ' ' ' ' ' ' ' ' ' ' ' '-' ' ' ' ' ' ']\n",
      " [' ' ' ' ' ' ' ' ' ' ' ' ' ' ' ' ' ' ' ']\n",
      " [' ' ' ' ' ' ' ' ' ' ' ' ' ' ' ' ' ' ' ']\n",
      " [' ' ' ' ' ' ' ' ' ' ' ' ' ' ' ' ' ' ' ']]\n",
      "-------------------------------------------------- SEPARADOR 4 --------------------------------------------------\n"
     ]
    }
   ],
   "source": [
    "################# 4.RECIBIR DISPAROS\n",
    "\n",
    "def recibir_disparo(tablero, coordenada):\n",
    "    if tablero[coordenada] == \"O\":\n",
    "        tablero[coordenada] = \"X\"\n",
    "        print(\"Tocado\")\n",
    "    elif tablero[coordenada] == \"X\":\n",
    "        print(\"Agonía, deja de perder el tiempo, dispara a otro sitio\")\n",
    "    else:\n",
    "        tablero[coordenada] = \"-\"\n",
    "        print(\"Agua\")\n",
    "\n",
    "print(recibir_disparo(tablero,(5,6)))\n",
    "recibir_disparo(tablero,(6,6))\n",
    "\n",
    "print(tablero)\n",
    "\n",
    "print(\"-\"*50, \"SEPARADOR 4\" ,\"-\"*50)"
   ]
  },
  {
   "cell_type": "code",
   "execution_count": null,
   "metadata": {},
   "outputs": [],
   "source": []
  },
  {
   "cell_type": "code",
   "execution_count": null,
   "metadata": {},
   "outputs": [
    {
     "name": "stdout",
     "output_type": "stream",
     "text": [
      "[['' '' '' '' '' '' '' '' '' '']\n",
      " ['' '' '' '' '' '' '' '' '' '']\n",
      " ['' '' '' '' '' '' '' '' '' '']\n",
      " ['' '' '' '' '' '' '' '' '' '']\n",
      " ['' '' '' '' '' '' '' '' '' '']\n",
      " ['' '' '' '' '' '' '' '' '' '']\n",
      " ['' '' '' '' '' '' '' '' '' '']\n",
      " ['' '' '' '' '' '' '' '' '' '']\n",
      " ['' '' '' '' '' '' '' '' '' '']\n",
      " ['' '' '' '' '' '' '' '' '' '']]\n",
      "-------------------------------------------------- SEPARADOR 1 --------------------------------------------------\n",
      "[['' 'O' '' '' '' '' '' '' '' '']\n",
      " ['' 'O' '' 'O' 'O' 'O' 'O' '' '' '']\n",
      " ['' '' '' 'O' 'O' 'O' '' '' '' '']\n",
      " ['' '' '' '' '' '' '' '' '' '']\n",
      " ['' '' '' '' '' '' '' '' '' '']\n",
      " ['' '' '' '' '' '' '' '' '' '']\n",
      " ['' '' '' '' '' '' '' '' '' '']\n",
      " ['' '' '' '' '' '' '' '' '' '']\n",
      " ['' '' '' '' '' '' '' '' '' '']\n",
      " ['' '' '' '' '' '' '' '' '' '']]\n",
      "No puedo poner la pieza (12, 2) porque se sale del tablero\n",
      "Vale, no has podido\n",
      "-------------------------------------------------- SEPARADOR 2 --------------------------------------------------\n",
      "[[' ' ' ' ' ' ' ' ' ' ' ' ' ' ' ' ' ' ' ']\n",
      " [' ' ' ' ' ' ' ' ' ' ' ' ' ' ' ' ' ' ' ']\n",
      " [' ' ' ' ' ' ' ' ' ' ' ' ' ' ' ' ' ' ' ']\n",
      " [' ' ' ' ' ' ' ' ' ' ' ' ' ' ' ' ' ' ' ']\n",
      " [' ' ' ' ' ' ' ' ' ' ' ' ' ' ' ' ' ' ' ']\n",
      " [' ' ' ' ' ' ' ' ' ' ' ' ' ' ' ' ' ' ' ']\n",
      " [' ' ' ' ' ' ' ' ' ' ' ' ' ' ' ' ' ' ' ']\n",
      " [' ' ' ' ' ' ' ' ' ' ' ' ' ' ' ' ' ' ' ']\n",
      " [' ' ' ' ' ' ' ' ' ' ' ' ' ' ' ' ' ' ' ']\n",
      " [' ' ' ' ' ' ' ' ' ' ' ' ' ' ' ' ' ' ' ']]\n",
      "********************\n",
      "Coloco: [(0, 1), (1, 1)]\n",
      "[[' ' 'O' ' ' ' ' ' ' ' ' ' ' ' ' ' ' ' ']\n",
      " [' ' 'O' ' ' ' ' ' ' ' ' ' ' ' ' ' ' ' ']\n",
      " [' ' ' ' ' ' ' ' ' ' ' ' ' ' ' ' ' ' ' ']\n",
      " [' ' ' ' ' ' ' ' ' ' ' ' ' ' ' ' ' ' ' ']\n",
      " [' ' ' ' ' ' ' ' ' ' ' ' ' ' ' ' ' ' ' ']\n",
      " [' ' ' ' ' ' ' ' ' ' ' ' ' ' ' ' ' ' ' ']\n",
      " [' ' ' ' ' ' ' ' ' ' ' ' ' ' ' ' ' ' ' ']\n",
      " [' ' ' ' ' ' ' ' ' ' ' ' ' ' ' ' ' ' ' ']\n",
      " [' ' ' ' ' ' ' ' ' ' ' ' ' ' ' ' ' ' ' ']\n",
      " [' ' ' ' ' ' ' ' ' ' ' ' ' ' ' ' ' ' ' ']]\n",
      "********************\n",
      "Coloco: [(1, 3), (1, 4), (1, 5), (1, 6)]\n",
      "[[' ' 'O' ' ' ' ' ' ' ' ' ' ' ' ' ' ' ' ']\n",
      " [' ' 'O' ' ' 'O' 'O' 'O' 'O' ' ' ' ' ' ']\n",
      " [' ' ' ' ' ' ' ' ' ' ' ' ' ' ' ' ' ' ' ']\n",
      " [' ' ' ' ' ' ' ' ' ' ' ' ' ' ' ' ' ' ' ']\n",
      " [' ' ' ' ' ' ' ' ' ' ' ' ' ' ' ' ' ' ' ']\n",
      " [' ' ' ' ' ' ' ' ' ' ' ' ' ' ' ' ' ' ' ']\n",
      " [' ' ' ' ' ' ' ' ' ' ' ' ' ' ' ' ' ' ' ']\n",
      " [' ' ' ' ' ' ' ' ' ' ' ' ' ' ' ' ' ' ' ']\n",
      " [' ' ' ' ' ' ' ' ' ' ' ' ' ' ' ' ' ' ' ']\n",
      " [' ' ' ' ' ' ' ' ' ' ' ' ' ' ' ' ' ' ' ']]\n",
      "-------------------------------------------------- SEPARADOR 3 --------------------------------------------------\n",
      "Agua\n",
      "None\n",
      "Agua\n",
      "[[' ' 'O' ' ' ' ' ' ' ' ' ' ' ' ' ' ' ' ']\n",
      " [' ' 'O' ' ' 'O' 'O' 'O' 'O' ' ' ' ' ' ']\n",
      " [' ' ' ' ' ' ' ' ' ' ' ' ' ' ' ' ' ' ' ']\n",
      " [' ' ' ' ' ' ' ' ' ' ' ' ' ' ' ' ' ' ' ']\n",
      " [' ' ' ' ' ' ' ' ' ' ' ' ' ' ' ' ' ' ' ']\n",
      " [' ' ' ' ' ' ' ' ' ' ' ' '-' ' ' ' ' ' ']\n",
      " [' ' ' ' ' ' ' ' ' ' ' ' '-' ' ' ' ' ' ']\n",
      " [' ' ' ' ' ' ' ' ' ' ' ' ' ' ' ' ' ' ' ']\n",
      " [' ' ' ' ' ' ' ' ' ' ' ' ' ' ' ' ' ' ' ']\n",
      " [' ' ' ' ' ' ' ' ' ' ' ' ' ' ' ' ' ' ' ']]\n",
      "-------------------------------------------------- SEPARADOR 4 --------------------------------------------------\n",
      "-------------------------------------------------- SEPARADOR 5 --------------------------------------------------\n",
      "-------------------------------------------------- SEPARADOR 6 --------------------------------------------------\n",
      "Pieza original: (9, 8)\n",
      "Con orientacion O\n"
     ]
    }
   ],
   "source": [
    "############ 1. CREAR TABLERO\n",
    "\n",
    "import numpy as np\n",
    "import random\n",
    "\n",
    "tablero = np.full((10,10),\"\")\n",
    "print(tablero)\n",
    "\n",
    "def crea_tablero_jugador(lado = 10):\n",
    "    tablero = np.full((lado,lado),\" \")\n",
    "    return tablero\n",
    "\n",
    "def crea_tablero_IA(lado = 10):\n",
    "    tablero = np.full((lado,lado),\" \")\n",
    "    return tablero\n",
    "\n",
    "\n",
    "\n",
    "\n",
    "\n",
    "print(\"-\"*50, \"SEPARADOR 1\" ,\"-\"*50)\n",
    "\n",
    "############### 2. COLOCAR BARCOS\n",
    "\n",
    "\n",
    "#barcos [(0,1), (1,1)] y [(1,3), (1,4), (1,5), (1,6)]\n",
    "\n",
    "barco1 = [(0,1),(1,1)]\n",
    "barco2 = [(1,3), (1,4), (1,5), (1,6)]\n",
    "barco3 = [(2,3),(2,4),(2,5)]\n",
    "\n",
    "def coloca_barco(tablero, barco):\n",
    "    for pieza in barco:\n",
    "        tablero[pieza] = \"O\"\n",
    "    return tablero\n",
    "\n",
    "tablero = coloca_barco(tablero, barco1)\n",
    "tablero = coloca_barco(tablero,barco2)\n",
    "tablero = coloca_barco(tablero,barco3)\n",
    "\n",
    "print(tablero)\n",
    "\n",
    "#-----------------------------------------\n",
    "\n",
    "def coloca_barco_plus(tablero, barco):\n",
    "    # Nos devuelve el tablero si puede colocar el barco, si no, devuelve False, y avise por pantalla\n",
    "    tablero_temp = tablero.copy()\n",
    "    num_max_filas = tablero.shape[0]\n",
    "    num_max_columnas = tablero.shape[1]\n",
    "    for pieza in barco:\n",
    "        fila = pieza[0]\n",
    "        columna = pieza[1]\n",
    "        if fila < 0  or fila >= num_max_filas:\n",
    "            print(f\"No puedo poner la pieza {pieza} porque se sale del tablero\")\n",
    "            return False\n",
    "        if columna <0 or columna>= num_max_columnas:\n",
    "            print(f\"No puedo poner la pieza {pieza} porque se sale del tablero\")\n",
    "            return False\n",
    "        if tablero[pieza] == \"O\" or tablero[pieza] == \"X\":\n",
    "            print(f\"No puedo poner la pieza {pieza} porque hay otro barco\")\n",
    "            return False\n",
    "        tablero_temp[pieza] = \"O\"\n",
    "    return tablero_temp\n",
    "\n",
    "\n",
    "#############################################\n",
    "\n",
    "barco_raro = [(1,2),(12,2)]\n",
    "tablero_temp = coloca_barco_plus(tablero,barco_raro)\n",
    "if type(tablero_temp) == np.ndarray:\n",
    "    print(tablero_temp)\n",
    "else:\n",
    "    print(\"Vale, no has podido\")\n",
    "\n",
    "print(\"-\"*50, \"SEPARADOR 2\" ,\"-\"*50)\n",
    "\n",
    "################ 3. IR VIENDO CÓMO SE COLOCAN\n",
    "\n",
    "\n",
    "tablero = crea_tablero(10)\n",
    "barco1 = [(0,1),(1,1)]\n",
    "barco2 = [(1,3), (1,4), (1,5), (1,6)]\n",
    "barco3 = [(2,3),(2,4),(2,5)]\n",
    "\n",
    "print(tablero)\n",
    "for barco in [barco1, barco2,barco3]:\n",
    "    print(\"*\"*20)\n",
    "    print(\"Coloco:\", barco)\n",
    "    tablero = coloca_barco(tablero,barco)\n",
    "    print(tablero)\n",
    "\n",
    "print(\"-\"*50, \"SEPARADOR 3\" ,\"-\"*50)\n",
    "\n",
    "################# 4.RECIBIR DISPAROS\n",
    "\n",
    "def recibir_disparo(tablero, coordenada):\n",
    "    if tablero[coordenada] == \"O\":\n",
    "        tablero[coordenada] = \"X\"\n",
    "        print(\"Tocado\")\n",
    "    elif tablero[coordenada] == \"X\":\n",
    "        print(\"Agonía, deja de perder el tiempo, dispara a otro sitio\")\n",
    "    else:\n",
    "        tablero[coordenada] = \"-\"\n",
    "        print(\"Agua\")\n",
    "\n",
    "print(recibir_disparo(tablero,(5,6)))\n",
    "recibir_disparo(tablero,(6,6))\n",
    "\n",
    "print(tablero)\n",
    "\n",
    "print(\"-\"*50, \"SEPARADOR 4\" ,\"-\"*50)\n",
    "\n",
    "########################### 5. DISPARAR\n",
    "\n",
    "\n",
    "\n",
    "\n",
    "\n",
    "\n",
    "\n",
    "\n",
    "\n",
    "\n",
    "\n",
    "\n",
    "print(\"-\"*50, \"SEPARADOR 5\" ,\"-\"*50)\n",
    "\n",
    "\n",
    "\n",
    "########## 6. BARCOS ALEATORIOS\n",
    "\n",
    "\n",
    "\n",
    "def crea_barco_aleatorio(tablero,eslora = 4, num_intentos = 100):\n",
    "    num_max_filas = tablero.shape[0]\n",
    "    num_max_columnas = tablero.shape[1]\n",
    "    while True:\n",
    "        barco = []\n",
    "        # Construimos el hipotetico barco\n",
    "        pieza_original = (random.randint(0,num_max_filas-1),random.randint(0, num_max_columnas -1))\n",
    "        print(\"Pieza original:\", pieza_original)\n",
    "        barco.append(pieza_original)\n",
    "        orientacion = random.choice([\"N\",\"S\",\"O\",\"E\"])\n",
    "        print(\"Con orientacion\", orientacion)\n",
    "        fila = pieza_original[0]\n",
    "        columna = pieza_original[1]\n",
    "        for i in range(eslora -1):\n",
    "            if orientacion == \"N\":\n",
    "                fila -= 1\n",
    "            elif orientacion  == \"S\":\n",
    "                fila += 1\n",
    "            elif orientacion == \"E\":\n",
    "                columna += 1\n",
    "            else:\n",
    "                columna -= 1\n",
    "            pieza = (fila,columna)\n",
    "            barco.append(pieza)\n",
    "        tablero_temp = coloca_barco_plus(tablero, barco)\n",
    "        if type(tablero_temp) == np.ndarray:\n",
    "            return tablero_temp\n",
    "        print(\"Tengo que intentar colocar otro barco\")\n",
    "\n",
    "        \n",
    "print(\"-\"*50, \"SEPARADOR 6\" ,\"-\"*50)\n",
    "\n",
    "tablero = crea_barco_aleatorio(tablero, eslora = 6)\n",
    "\n",
    "\n",
    "\n",
    "\n",
    "\n",
    "\n"
   ]
  },
  {
   "cell_type": "markdown",
   "metadata": {},
   "source": [
    "En esta entrega vas a crear tu propio juego de **Hundir la flota** en Python. \n",
    "[Aquí](http://es.battleship-game.org/) podrás probarlo online."
   ]
  },
  {
   "attachments": {},
   "cell_type": "markdown",
   "metadata": {},
   "source": [
    "### En clase\n",
    "1. Crea la función `crear_tablero(tamaño)`, un tablero por defecto de 10x10 relleno del carácter \"_\" con numpy.\n",
    "2. Crea la función `colocar_barco(barco, tablero)`, que recibirá la lista de casillas de un barco y el tablero donde colocarlo. Prueba primero a posicionar un par de barcos por ejemplo en [(0,1), (1,1)] y [(1,3), (1,4), (1,5), (1,6)]. Los barcos serán Os mayúsculas. Como ves, un barco de dos posiciones de eslora y otro de cuatro.\n",
    "3. Crea la función `disparar(casilla, tablero)`, si el disparo acierta en un barco sustituye la O por una X (tocado), si es agua, sustituye la _ por una A (Agua). Prueba primero a disparar el barco de 2 casillas.\n",
    "4. Crea la función `crear_barco(eslora)`, que deberá crear una lista de casillas de un barco en función a la eslora, de forma aleatoria.\n",
    "\n",
    "### Proyecto individual\n",
    "1. Crea la función `colocar_barcos(tablero)`, que deberá de colocar la lista de barcos generados de forma aleatoria (6 barcos en total (3 barcos de eslora 2, 2 de eslora 3 y 1 eslora 4)) ¡Mucho ojo con barcos que estén superpuestos (no pueden ocupar dos barcos la misma casilla) o barcos que se salgan del tablero!\n",
    "2. Escribe el flujo completo del programa, con la dinámica de turnos y funcionalidades necesarios para jugar contra la máquina (dispara a tu tablero de forma aleatoria). Crea todas las funciones que necesites y aplica todo lo aprendido que te sea útil.\n",
    "3. Encapsula todo en un `main.py` y un `utils.py` para ejecutarlo desde terminal.\n",
    "4. Sube tu proyecto a un repositorio de github y prepara una demo (solo se podrá enseñar desde terminal) para la presentación de tu proyecto."
   ]
  },
  {
   "cell_type": "markdown",
   "metadata": {},
   "source": [
    "## Presentación\n",
    "Cada uno realizará una presentación el **lunes 16 de junio**, donde se contarán con **10 minutos máximo**, importante ceñirse al tiempo. Se tendrá que enseñar:\n",
    "1. El git clone del repositorio de github a tu ordenador y explicar las partes más relevantes del código.\n",
    "2. Una demo donde se muestre el correcto funcionamiento del código para jugar, ejecutándose desde terminal.\n",
    "3. Explicación de la lógica de las partes más relevantes del código desarrollado."
   ]
  },
  {
   "cell_type": "code",
   "execution_count": 1,
   "metadata": {},
   "outputs": [
    {
     "name": "stdout",
     "output_type": "stream",
     "text": [
      "Collecting numpy\n",
      "  Downloading numpy-2.3.0-cp313-cp313-win_amd64.whl.metadata (60 kB)\n",
      "Downloading numpy-2.3.0-cp313-cp313-win_amd64.whl (12.7 MB)\n",
      "   ---------------------------------------- 0.0/12.7 MB ? eta -:--:--\n",
      "   ----------------- ---------------------- 5.5/12.7 MB 27.4 MB/s eta 0:00:01\n",
      "   -------------------------------- ------- 10.2/12.7 MB 25.7 MB/s eta 0:00:01\n",
      "   ---------------------------------------- 12.7/12.7 MB 23.5 MB/s eta 0:00:00\n",
      "Installing collected packages: numpy\n",
      "Successfully installed numpy-2.3.0\n"
     ]
    },
    {
     "name": "stderr",
     "output_type": "stream",
     "text": [
      "\n",
      "[notice] A new release of pip is available: 25.0.1 -> 25.1.1\n",
      "[notice] To update, run: python.exe -m pip install --upgrade pip\n"
     ]
    }
   ],
   "source": [
    "!pip install numpy"
   ]
  },
  {
   "cell_type": "code",
   "execution_count": 5,
   "metadata": {},
   "outputs": [
    {
     "ename": "SyntaxError",
     "evalue": "invalid syntax (842801469.py, line 1)",
     "output_type": "error",
     "traceback": [
      "  \u001b[36mCell\u001b[39m\u001b[36m \u001b[39m\u001b[32mIn[5]\u001b[39m\u001b[32m, line 1\u001b[39m\n\u001b[31m    \u001b[39m\u001b[31mpython.exe -m pip install --upgrade pip\u001b[39m\n                  ^\n\u001b[31mSyntaxError\u001b[39m\u001b[31m:\u001b[39m invalid syntax\n"
     ]
    }
   ],
   "source": [
    "python.exe -m pip install --upgrade pip"
   ]
  },
  {
   "cell_type": "code",
   "execution_count": null,
   "metadata": {},
   "outputs": [],
   "source": [
    "import numpy as np\n"
   ]
  },
  {
   "cell_type": "code",
   "execution_count": 4,
   "metadata": {},
   "outputs": [
    {
     "data": {
      "text/plain": [
       "'2.3.0'"
      ]
     },
     "execution_count": 4,
     "metadata": {},
     "output_type": "execute_result"
    }
   ],
   "source": [
    "np.__version__"
   ]
  },
  {
   "cell_type": "code",
   "execution_count": 3,
   "metadata": {},
   "outputs": [
    {
     "data": {
      "text/plain": [
       "module"
      ]
     },
     "execution_count": 3,
     "metadata": {},
     "output_type": "execute_result"
    }
   ],
   "source": [
    "type(np)"
   ]
  },
  {
   "cell_type": "code",
   "execution_count": 20,
   "metadata": {},
   "outputs": [
    {
     "data": {
      "text/plain": [
       "array([[' ', ' ', ' ', ' ', ' ', ' ', ' ', ' ', ' ', ' '],\n",
       "       [' ', ' ', ' ', ' ', ' ', ' ', ' ', ' ', ' ', ' '],\n",
       "       [' ', ' ', ' ', ' ', ' ', ' ', ' ', ' ', ' ', ' '],\n",
       "       [' ', ' ', ' ', ' ', ' ', ' ', ' ', ' ', ' ', ' '],\n",
       "       [' ', ' ', ' ', ' ', ' ', ' ', ' ', ' ', ' ', ' '],\n",
       "       [' ', ' ', ' ', ' ', ' ', ' ', ' ', ' ', ' ', ' '],\n",
       "       [' ', ' ', ' ', ' ', ' ', ' ', ' ', ' ', ' ', ' '],\n",
       "       [' ', ' ', ' ', ' ', ' ', ' ', ' ', ' ', ' ', ' '],\n",
       "       [' ', ' ', ' ', ' ', ' ', ' ', ' ', ' ', ' ', ' '],\n",
       "       [' ', ' ', ' ', ' ', ' ', ' ', ' ', ' ', ' ', ' ']], dtype='<U1')"
      ]
     },
     "execution_count": 20,
     "metadata": {},
     "output_type": "execute_result"
    }
   ],
   "source": [
    "np.full((10,10), ' ')"
   ]
  }
 ],
 "metadata": {
  "kernelspec": {
   "display_name": "Python 3",
   "language": "python",
   "name": "python3"
  },
  "language_info": {
   "codemirror_mode": {
    "name": "ipython",
    "version": 3
   },
   "file_extension": ".py",
   "mimetype": "text/x-python",
   "name": "python",
   "nbconvert_exporter": "python",
   "pygments_lexer": "ipython3",
   "version": "3.13.3"
  },
  "orig_nbformat": 4
 },
 "nbformat": 4,
 "nbformat_minor": 2
}
